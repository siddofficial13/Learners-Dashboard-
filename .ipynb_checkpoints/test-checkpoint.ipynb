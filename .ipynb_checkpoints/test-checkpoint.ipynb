{
 "cells": [
  {
   "cell_type": "markdown",
   "id": "67e8fac1",
   "metadata": {},
   "source": [
    "# Test file "
   ]
  },
  {
   "cell_type": "markdown",
   "id": "63a82974",
   "metadata": {},
   "source": [
    "Importing the necessary libraries such as pandas, numpy etc."
   ]
  },
  {
   "cell_type": "code",
   "execution_count": 2,
   "id": "bf061c64",
   "metadata": {},
   "outputs": [],
   "source": [
    "import pandas as pd\n",
    "import numpy as np "
   ]
  },
  {
   "cell_type": "markdown",
   "id": "ba8bd8fc",
   "metadata": {},
   "source": [
    "Reading the excel file from the directory and creating the dataframe out of it and print it "
   ]
  },
  {
   "cell_type": "code",
   "execution_count": 3,
   "id": "49b90f72",
   "metadata": {},
   "outputs": [],
   "source": [
    "df=pd.read_excel(\"Coursera Dataset copy.xlsx\")"
   ]
  },
  {
   "cell_type": "code",
   "execution_count": 4,
   "id": "1442ada7",
   "metadata": {},
   "outputs": [
    {
     "data": {
      "text/html": [
       "<div>\n",
       "<style scoped>\n",
       "    .dataframe tbody tr th:only-of-type {\n",
       "        vertical-align: middle;\n",
       "    }\n",
       "\n",
       "    .dataframe tbody tr th {\n",
       "        vertical-align: top;\n",
       "    }\n",
       "\n",
       "    .dataframe thead th {\n",
       "        text-align: right;\n",
       "    }\n",
       "</style>\n",
       "<table border=\"1\" class=\"dataframe\">\n",
       "  <thead>\n",
       "    <tr style=\"text-align: right;\">\n",
       "      <th></th>\n",
       "      <th>Name</th>\n",
       "      <th>Division</th>\n",
       "      <th>Group</th>\n",
       "      <th>Department</th>\n",
       "      <th>Program Name</th>\n",
       "      <th>Course Name</th>\n",
       "      <th>Duration(in hrs)</th>\n",
       "      <th>Completed</th>\n",
       "      <th>Enrollment Time</th>\n",
       "      <th>Completion Time</th>\n",
       "      <th>Learning Hours Spent</th>\n",
       "      <th>Course Grade</th>\n",
       "      <th>Skills Learned</th>\n",
       "    </tr>\n",
       "  </thead>\n",
       "  <tbody>\n",
       "    <tr>\n",
       "      <th>0</th>\n",
       "      <td>Person_1</td>\n",
       "      <td>Operations - TSK</td>\n",
       "      <td>Steel &amp; Mills - TSK</td>\n",
       "      <td>Steel Melting Shop &amp; LCP TSK</td>\n",
       "      <td>Six Sigma Black Belt Learning Program</td>\n",
       "      <td>The Define Phase for the 6 σ Black Belt</td>\n",
       "      <td>5.8</td>\n",
       "      <td>NaN</td>\n",
       "      <td>NaN</td>\n",
       "      <td>NaN</td>\n",
       "      <td>NaN</td>\n",
       "      <td>NaN</td>\n",
       "      <td>Trigonometric Integral; Lean Six Sigma; Six Si...</td>\n",
       "    </tr>\n",
       "    <tr>\n",
       "      <th>1</th>\n",
       "      <td>Person_1</td>\n",
       "      <td>Operations - TSK</td>\n",
       "      <td>Steel &amp; Mills - TSK</td>\n",
       "      <td>Steel Melting Shop &amp; LCP TSK</td>\n",
       "      <td>Six Sigma Black Belt Learning Program</td>\n",
       "      <td>The Analyze Phase for the 6 σ Black Belt</td>\n",
       "      <td>7.5</td>\n",
       "      <td>NaN</td>\n",
       "      <td>NaN</td>\n",
       "      <td>NaN</td>\n",
       "      <td>NaN</td>\n",
       "      <td>NaN</td>\n",
       "      <td>Six Sigma; Training; Culture; Analysis; Leader...</td>\n",
       "    </tr>\n",
       "    <tr>\n",
       "      <th>2</th>\n",
       "      <td>Person_1</td>\n",
       "      <td>Operations - TSK</td>\n",
       "      <td>Steel &amp; Mills - TSK</td>\n",
       "      <td>Steel Melting Shop &amp; LCP TSK</td>\n",
       "      <td>Six Sigma Black Belt Learning Program</td>\n",
       "      <td>The Measure Phase for the 6 σ Black Belt</td>\n",
       "      <td>10.8</td>\n",
       "      <td>NaN</td>\n",
       "      <td>NaN</td>\n",
       "      <td>NaN</td>\n",
       "      <td>NaN</td>\n",
       "      <td>NaN</td>\n",
       "      <td>Process Analysis; Process; Measurement; Genera...</td>\n",
       "    </tr>\n",
       "    <tr>\n",
       "      <th>3</th>\n",
       "      <td>Person_1</td>\n",
       "      <td>Operations - TSK</td>\n",
       "      <td>Steel &amp; Mills - TSK</td>\n",
       "      <td>Steel Melting Shop &amp; LCP TSK</td>\n",
       "      <td>Six Sigma Black Belt Learning Program</td>\n",
       "      <td>DFSS for the 6 σ Black Belt</td>\n",
       "      <td>5.0</td>\n",
       "      <td>NaN</td>\n",
       "      <td>NaN</td>\n",
       "      <td>NaN</td>\n",
       "      <td>NaN</td>\n",
       "      <td>NaN</td>\n",
       "      <td>Trigonometric Integral; Six Sigma; Leadership ...</td>\n",
       "    </tr>\n",
       "    <tr>\n",
       "      <th>4</th>\n",
       "      <td>Person_1</td>\n",
       "      <td>Operations - TSK</td>\n",
       "      <td>Steel &amp; Mills - TSK</td>\n",
       "      <td>Steel Melting Shop &amp; LCP TSK</td>\n",
       "      <td>Six Sigma Black Belt Learning Program</td>\n",
       "      <td>Team Management for the 6 σ Black Belt</td>\n",
       "      <td>2.5</td>\n",
       "      <td>NaN</td>\n",
       "      <td>NaN</td>\n",
       "      <td>NaN</td>\n",
       "      <td>NaN</td>\n",
       "      <td>NaN</td>\n",
       "      <td>Project; Conflict Management; Conflict Resolut...</td>\n",
       "    </tr>\n",
       "    <tr>\n",
       "      <th>...</th>\n",
       "      <td>...</td>\n",
       "      <td>...</td>\n",
       "      <td>...</td>\n",
       "      <td>...</td>\n",
       "      <td>...</td>\n",
       "      <td>...</td>\n",
       "      <td>...</td>\n",
       "      <td>...</td>\n",
       "      <td>...</td>\n",
       "      <td>...</td>\n",
       "      <td>...</td>\n",
       "      <td>...</td>\n",
       "      <td>...</td>\n",
       "    </tr>\n",
       "    <tr>\n",
       "      <th>6630</th>\n",
       "      <td>Person_1408</td>\n",
       "      <td>TQM and E&amp;P</td>\n",
       "      <td>Projects &amp; Construction TSK</td>\n",
       "      <td>Cold Rolling Mills - POG</td>\n",
       "      <td>School of Analytics-Basic</td>\n",
       "      <td>Data – What It Is What We Can Do With It</td>\n",
       "      <td>5.8</td>\n",
       "      <td>Yes</td>\n",
       "      <td>2023-02-15T11:48:06.000Z</td>\n",
       "      <td>2023-03-17T06:11:14.000Z</td>\n",
       "      <td>7.31</td>\n",
       "      <td>90.00</td>\n",
       "      <td>Data Visualization; Data Analysis; Analysis; P...</td>\n",
       "    </tr>\n",
       "    <tr>\n",
       "      <th>6631</th>\n",
       "      <td>Person_1409</td>\n",
       "      <td>TQM and E&amp;P</td>\n",
       "      <td>Projects &amp; Construction TSK</td>\n",
       "      <td>Cold Rolling Mills - POG</td>\n",
       "      <td>Operations Management Learning Program</td>\n",
       "      <td>Supply Chain Excellence</td>\n",
       "      <td>6.8</td>\n",
       "      <td>No</td>\n",
       "      <td>2023-04-02T14:10:21.000Z</td>\n",
       "      <td>NaN</td>\n",
       "      <td>2.09</td>\n",
       "      <td>33.23</td>\n",
       "      <td>Supply Chain; Finance; Chaining; Leadership an...</td>\n",
       "    </tr>\n",
       "    <tr>\n",
       "      <th>6632</th>\n",
       "      <td>Person_1409</td>\n",
       "      <td>TQM and E&amp;P</td>\n",
       "      <td>Projects &amp; Construction TSK</td>\n",
       "      <td>Cold Rolling Mills - POG</td>\n",
       "      <td>Operations Management Learning Program</td>\n",
       "      <td>Supply Chain Operations</td>\n",
       "      <td>7.6</td>\n",
       "      <td>NaN</td>\n",
       "      <td>NaN</td>\n",
       "      <td>NaN</td>\n",
       "      <td>NaN</td>\n",
       "      <td>NaN</td>\n",
       "      <td>Supply Chain; Trigonometric Integral; Lean Six...</td>\n",
       "    </tr>\n",
       "    <tr>\n",
       "      <th>6633</th>\n",
       "      <td>Person_1409</td>\n",
       "      <td>TQM and E&amp;P</td>\n",
       "      <td>Projects &amp; Construction TSK</td>\n",
       "      <td>Cold Rolling Mills - POG</td>\n",
       "      <td>School of Analytics-Basic</td>\n",
       "      <td>Data – What It Is What We Can Do With It</td>\n",
       "      <td>5.8</td>\n",
       "      <td>Yes</td>\n",
       "      <td>2023-02-12T12:04:42.000Z</td>\n",
       "      <td>2023-04-02T14:01:56.000Z</td>\n",
       "      <td>6.34</td>\n",
       "      <td>90.00</td>\n",
       "      <td>Data Visualization; Data Analysis; Analysis; P...</td>\n",
       "    </tr>\n",
       "    <tr>\n",
       "      <th>6634</th>\n",
       "      <td>Person_1409</td>\n",
       "      <td>TQM and E&amp;P</td>\n",
       "      <td>Projects &amp; Construction TSK</td>\n",
       "      <td>Cold Rolling Mills - POG</td>\n",
       "      <td>School of Analytics-Basic</td>\n",
       "      <td>Basic Data Descriptors Statistical Distributio...</td>\n",
       "      <td>8.9</td>\n",
       "      <td>NaN</td>\n",
       "      <td>NaN</td>\n",
       "      <td>NaN</td>\n",
       "      <td>NaN</td>\n",
       "      <td>NaN</td>\n",
       "      <td>General Statistics; Statistical Analysis; Prob...</td>\n",
       "    </tr>\n",
       "  </tbody>\n",
       "</table>\n",
       "<p>6635 rows × 13 columns</p>\n",
       "</div>"
      ],
      "text/plain": [
       "             Name          Division                        Group  \\\n",
       "0        Person_1  Operations - TSK          Steel & Mills - TSK   \n",
       "1        Person_1  Operations - TSK          Steel & Mills - TSK   \n",
       "2        Person_1  Operations - TSK          Steel & Mills - TSK   \n",
       "3        Person_1  Operations - TSK          Steel & Mills - TSK   \n",
       "4        Person_1  Operations - TSK          Steel & Mills - TSK   \n",
       "...           ...               ...                          ...   \n",
       "6630  Person_1408       TQM and E&P  Projects & Construction TSK   \n",
       "6631  Person_1409       TQM and E&P  Projects & Construction TSK   \n",
       "6632  Person_1409       TQM and E&P  Projects & Construction TSK   \n",
       "6633  Person_1409       TQM and E&P  Projects & Construction TSK   \n",
       "6634  Person_1409       TQM and E&P  Projects & Construction TSK   \n",
       "\n",
       "                        Department                            Program Name  \\\n",
       "0     Steel Melting Shop & LCP TSK   Six Sigma Black Belt Learning Program   \n",
       "1     Steel Melting Shop & LCP TSK   Six Sigma Black Belt Learning Program   \n",
       "2     Steel Melting Shop & LCP TSK   Six Sigma Black Belt Learning Program   \n",
       "3     Steel Melting Shop & LCP TSK   Six Sigma Black Belt Learning Program   \n",
       "4     Steel Melting Shop & LCP TSK   Six Sigma Black Belt Learning Program   \n",
       "...                            ...                                     ...   \n",
       "6630      Cold Rolling Mills - POG               School of Analytics-Basic   \n",
       "6631      Cold Rolling Mills - POG  Operations Management Learning Program   \n",
       "6632      Cold Rolling Mills - POG  Operations Management Learning Program   \n",
       "6633      Cold Rolling Mills - POG               School of Analytics-Basic   \n",
       "6634      Cold Rolling Mills - POG               School of Analytics-Basic   \n",
       "\n",
       "                                            Course Name  Duration(in hrs)  \\\n",
       "0               The Define Phase for the 6 σ Black Belt               5.8   \n",
       "1              The Analyze Phase for the 6 σ Black Belt               7.5   \n",
       "2              The Measure Phase for the 6 σ Black Belt              10.8   \n",
       "3                           DFSS for the 6 σ Black Belt               5.0   \n",
       "4                Team Management for the 6 σ Black Belt               2.5   \n",
       "...                                                 ...               ...   \n",
       "6630           Data – What It Is What We Can Do With It               5.8   \n",
       "6631                            Supply Chain Excellence               6.8   \n",
       "6632                            Supply Chain Operations               7.6   \n",
       "6633           Data – What It Is What We Can Do With It               5.8   \n",
       "6634  Basic Data Descriptors Statistical Distributio...               8.9   \n",
       "\n",
       "     Completed           Enrollment Time           Completion Time  \\\n",
       "0          NaN                       NaN                       NaN   \n",
       "1          NaN                       NaN                       NaN   \n",
       "2          NaN                       NaN                       NaN   \n",
       "3          NaN                       NaN                       NaN   \n",
       "4          NaN                       NaN                       NaN   \n",
       "...        ...                       ...                       ...   \n",
       "6630       Yes  2023-02-15T11:48:06.000Z  2023-03-17T06:11:14.000Z   \n",
       "6631        No  2023-04-02T14:10:21.000Z                       NaN   \n",
       "6632       NaN                       NaN                       NaN   \n",
       "6633       Yes  2023-02-12T12:04:42.000Z  2023-04-02T14:01:56.000Z   \n",
       "6634       NaN                       NaN                       NaN   \n",
       "\n",
       "      Learning Hours Spent  Course Grade  \\\n",
       "0                      NaN           NaN   \n",
       "1                      NaN           NaN   \n",
       "2                      NaN           NaN   \n",
       "3                      NaN           NaN   \n",
       "4                      NaN           NaN   \n",
       "...                    ...           ...   \n",
       "6630                  7.31         90.00   \n",
       "6631                  2.09         33.23   \n",
       "6632                   NaN           NaN   \n",
       "6633                  6.34         90.00   \n",
       "6634                   NaN           NaN   \n",
       "\n",
       "                                         Skills Learned  \n",
       "0     Trigonometric Integral; Lean Six Sigma; Six Si...  \n",
       "1     Six Sigma; Training; Culture; Analysis; Leader...  \n",
       "2     Process Analysis; Process; Measurement; Genera...  \n",
       "3     Trigonometric Integral; Six Sigma; Leadership ...  \n",
       "4     Project; Conflict Management; Conflict Resolut...  \n",
       "...                                                 ...  \n",
       "6630  Data Visualization; Data Analysis; Analysis; P...  \n",
       "6631  Supply Chain; Finance; Chaining; Leadership an...  \n",
       "6632  Supply Chain; Trigonometric Integral; Lean Six...  \n",
       "6633  Data Visualization; Data Analysis; Analysis; P...  \n",
       "6634  General Statistics; Statistical Analysis; Prob...  \n",
       "\n",
       "[6635 rows x 13 columns]"
      ]
     },
     "execution_count": 4,
     "metadata": {},
     "output_type": "execute_result"
    }
   ],
   "source": [
    "df"
   ]
  },
  {
   "cell_type": "markdown",
   "id": "23951ce6",
   "metadata": {},
   "source": [
    "Describe command is basically calculating the metrics of the numerical data \n",
    "\n",
    "We have three columns for the new numerical dataset namely:-\n",
    "1. Duration(in hrs)\n",
    "2. Learning Hours Spent(in Hrs)\n",
    "3. Course Grade \n",
    "\n"
   ]
  },
  {
   "cell_type": "code",
   "execution_count": 5,
   "id": "69d7f082",
   "metadata": {},
   "outputs": [
    {
     "data": {
      "text/html": [
       "<div>\n",
       "<style scoped>\n",
       "    .dataframe tbody tr th:only-of-type {\n",
       "        vertical-align: middle;\n",
       "    }\n",
       "\n",
       "    .dataframe tbody tr th {\n",
       "        vertical-align: top;\n",
       "    }\n",
       "\n",
       "    .dataframe thead th {\n",
       "        text-align: right;\n",
       "    }\n",
       "</style>\n",
       "<table border=\"1\" class=\"dataframe\">\n",
       "  <thead>\n",
       "    <tr style=\"text-align: right;\">\n",
       "      <th></th>\n",
       "      <th>Duration(in hrs)</th>\n",
       "      <th>Learning Hours Spent</th>\n",
       "      <th>Course Grade</th>\n",
       "    </tr>\n",
       "  </thead>\n",
       "  <tbody>\n",
       "    <tr>\n",
       "      <th>count</th>\n",
       "      <td>6635.000000</td>\n",
       "      <td>1738.000000</td>\n",
       "      <td>1738.000000</td>\n",
       "    </tr>\n",
       "    <tr>\n",
       "      <th>mean</th>\n",
       "      <td>7.788832</td>\n",
       "      <td>2.968953</td>\n",
       "      <td>41.338423</td>\n",
       "    </tr>\n",
       "    <tr>\n",
       "      <th>std</th>\n",
       "      <td>3.425742</td>\n",
       "      <td>3.892452</td>\n",
       "      <td>41.900973</td>\n",
       "    </tr>\n",
       "    <tr>\n",
       "      <th>min</th>\n",
       "      <td>1.600000</td>\n",
       "      <td>0.000000</td>\n",
       "      <td>0.000000</td>\n",
       "    </tr>\n",
       "    <tr>\n",
       "      <th>25%</th>\n",
       "      <td>5.800000</td>\n",
       "      <td>0.210000</td>\n",
       "      <td>0.000000</td>\n",
       "    </tr>\n",
       "    <tr>\n",
       "      <th>50%</th>\n",
       "      <td>6.600000</td>\n",
       "      <td>1.590000</td>\n",
       "      <td>22.500000</td>\n",
       "    </tr>\n",
       "    <tr>\n",
       "      <th>75%</th>\n",
       "      <td>8.900000</td>\n",
       "      <td>4.377500</td>\n",
       "      <td>87.890000</td>\n",
       "    </tr>\n",
       "    <tr>\n",
       "      <th>max</th>\n",
       "      <td>49.000000</td>\n",
       "      <td>40.940000</td>\n",
       "      <td>100.000000</td>\n",
       "    </tr>\n",
       "  </tbody>\n",
       "</table>\n",
       "</div>"
      ],
      "text/plain": [
       "       Duration(in hrs)  Learning Hours Spent  Course Grade\n",
       "count       6635.000000           1738.000000   1738.000000\n",
       "mean           7.788832              2.968953     41.338423\n",
       "std            3.425742              3.892452     41.900973\n",
       "min            1.600000              0.000000      0.000000\n",
       "25%            5.800000              0.210000      0.000000\n",
       "50%            6.600000              1.590000     22.500000\n",
       "75%            8.900000              4.377500     87.890000\n",
       "max           49.000000             40.940000    100.000000"
      ]
     },
     "execution_count": 5,
     "metadata": {},
     "output_type": "execute_result"
    }
   ],
   "source": [
    "df.describe()"
   ]
  },
  {
   "cell_type": "code",
   "execution_count": 6,
   "id": "6cc8c10a",
   "metadata": {
    "scrolled": true
   },
   "outputs": [
    {
     "data": {
      "text/plain": [
       "Index(['Name', 'Division', 'Group', 'Department', 'Program Name',\n",
       "       'Course Name', 'Duration(in hrs)', 'Completed', 'Enrollment Time',\n",
       "       'Completion Time', 'Learning Hours Spent', 'Course Grade',\n",
       "       'Skills Learned'],\n",
       "      dtype='object')"
      ]
     },
     "execution_count": 6,
     "metadata": {},
     "output_type": "execute_result"
    }
   ],
   "source": [
    "df.columns"
   ]
  },
  {
   "cell_type": "markdown",
   "id": "c23b09b2",
   "metadata": {},
   "source": [
    "In this given dataset we have the following data columns basically namely:\n",
    "           \n",
    " 0)   Name                            (object) \n",
    " 1)   Division                        (object) \n",
    " 2)   Group                           (object) \n",
    " 3)   Department                     (object) \n",
    " 4)   Program Name                    (object) \n",
    " 5)   Course Name                     (object) \n",
    " 6)   Duration(in hrs)                (float64)\n",
    " 7)   Completed                      (object)\n",
    " 8)   Enrollment Time                (object) \n",
    " 9)   Completion Time                  (object) \n",
    " 10)  Learning Hours Spent            (float64)\n",
    " 11)  Course Grade                    (float64)\n",
    " 12)  Skills Learned                 (object) "
   ]
  },
  {
   "cell_type": "code",
   "execution_count": 7,
   "id": "f2d89f05",
   "metadata": {},
   "outputs": [
    {
     "data": {
      "text/plain": [
       "0                            NaN\n",
       "1                            NaN\n",
       "2                            NaN\n",
       "3                            NaN\n",
       "4                            NaN\n",
       "                  ...           \n",
       "6630    2023-02-15T11:48:06.000Z\n",
       "6631    2023-04-02T14:10:21.000Z\n",
       "6632                         NaN\n",
       "6633    2023-02-12T12:04:42.000Z\n",
       "6634                         NaN\n",
       "Name: Enrollment Time, Length: 6635, dtype: object"
      ]
     },
     "execution_count": 7,
     "metadata": {},
     "output_type": "execute_result"
    }
   ],
   "source": [
    "df['Enrollment Time']"
   ]
  },
  {
   "cell_type": "code",
   "execution_count": 8,
   "id": "eb9222f1",
   "metadata": {},
   "outputs": [
    {
     "data": {
      "text/html": [
       "<div>\n",
       "<style scoped>\n",
       "    .dataframe tbody tr th:only-of-type {\n",
       "        vertical-align: middle;\n",
       "    }\n",
       "\n",
       "    .dataframe tbody tr th {\n",
       "        vertical-align: top;\n",
       "    }\n",
       "\n",
       "    .dataframe thead th {\n",
       "        text-align: right;\n",
       "    }\n",
       "</style>\n",
       "<table border=\"1\" class=\"dataframe\">\n",
       "  <thead>\n",
       "    <tr style=\"text-align: right;\">\n",
       "      <th></th>\n",
       "      <th>Name</th>\n",
       "      <th>Division</th>\n",
       "      <th>Group</th>\n",
       "      <th>Department</th>\n",
       "      <th>Program Name</th>\n",
       "      <th>Course Name</th>\n",
       "      <th>Duration(in hrs)</th>\n",
       "      <th>Completed</th>\n",
       "      <th>Enrollment Time</th>\n",
       "      <th>Completion Time</th>\n",
       "      <th>Learning Hours Spent</th>\n",
       "      <th>Course Grade</th>\n",
       "      <th>Skills Learned</th>\n",
       "    </tr>\n",
       "  </thead>\n",
       "  <tbody>\n",
       "    <tr>\n",
       "      <th>0</th>\n",
       "      <td>Person_1</td>\n",
       "      <td>Operations - TSK</td>\n",
       "      <td>Steel &amp; Mills - TSK</td>\n",
       "      <td>Steel Melting Shop &amp; LCP TSK</td>\n",
       "      <td>Six Sigma Black Belt Learning Program</td>\n",
       "      <td>The Define Phase for the 6 σ Black Belt</td>\n",
       "      <td>5.8</td>\n",
       "      <td>NaN</td>\n",
       "      <td>NaN</td>\n",
       "      <td>NaN</td>\n",
       "      <td>NaN</td>\n",
       "      <td>NaN</td>\n",
       "      <td>Trigonometric Integral; Lean Six Sigma; Six Si...</td>\n",
       "    </tr>\n",
       "    <tr>\n",
       "      <th>1</th>\n",
       "      <td>Person_1</td>\n",
       "      <td>Operations - TSK</td>\n",
       "      <td>Steel &amp; Mills - TSK</td>\n",
       "      <td>Steel Melting Shop &amp; LCP TSK</td>\n",
       "      <td>Six Sigma Black Belt Learning Program</td>\n",
       "      <td>The Analyze Phase for the 6 σ Black Belt</td>\n",
       "      <td>7.5</td>\n",
       "      <td>NaN</td>\n",
       "      <td>NaN</td>\n",
       "      <td>NaN</td>\n",
       "      <td>NaN</td>\n",
       "      <td>NaN</td>\n",
       "      <td>Six Sigma; Training; Culture; Analysis; Leader...</td>\n",
       "    </tr>\n",
       "    <tr>\n",
       "      <th>2</th>\n",
       "      <td>Person_1</td>\n",
       "      <td>Operations - TSK</td>\n",
       "      <td>Steel &amp; Mills - TSK</td>\n",
       "      <td>Steel Melting Shop &amp; LCP TSK</td>\n",
       "      <td>Six Sigma Black Belt Learning Program</td>\n",
       "      <td>The Measure Phase for the 6 σ Black Belt</td>\n",
       "      <td>10.8</td>\n",
       "      <td>NaN</td>\n",
       "      <td>NaN</td>\n",
       "      <td>NaN</td>\n",
       "      <td>NaN</td>\n",
       "      <td>NaN</td>\n",
       "      <td>Process Analysis; Process; Measurement; Genera...</td>\n",
       "    </tr>\n",
       "    <tr>\n",
       "      <th>3</th>\n",
       "      <td>Person_1</td>\n",
       "      <td>Operations - TSK</td>\n",
       "      <td>Steel &amp; Mills - TSK</td>\n",
       "      <td>Steel Melting Shop &amp; LCP TSK</td>\n",
       "      <td>Six Sigma Black Belt Learning Program</td>\n",
       "      <td>DFSS for the 6 σ Black Belt</td>\n",
       "      <td>5.0</td>\n",
       "      <td>NaN</td>\n",
       "      <td>NaN</td>\n",
       "      <td>NaN</td>\n",
       "      <td>NaN</td>\n",
       "      <td>NaN</td>\n",
       "      <td>Trigonometric Integral; Six Sigma; Leadership ...</td>\n",
       "    </tr>\n",
       "    <tr>\n",
       "      <th>4</th>\n",
       "      <td>Person_1</td>\n",
       "      <td>Operations - TSK</td>\n",
       "      <td>Steel &amp; Mills - TSK</td>\n",
       "      <td>Steel Melting Shop &amp; LCP TSK</td>\n",
       "      <td>Six Sigma Black Belt Learning Program</td>\n",
       "      <td>Team Management for the 6 σ Black Belt</td>\n",
       "      <td>2.5</td>\n",
       "      <td>NaN</td>\n",
       "      <td>NaN</td>\n",
       "      <td>NaN</td>\n",
       "      <td>NaN</td>\n",
       "      <td>NaN</td>\n",
       "      <td>Project; Conflict Management; Conflict Resolut...</td>\n",
       "    </tr>\n",
       "  </tbody>\n",
       "</table>\n",
       "</div>"
      ],
      "text/plain": [
       "       Name          Division                Group  \\\n",
       "0  Person_1  Operations - TSK  Steel & Mills - TSK   \n",
       "1  Person_1  Operations - TSK  Steel & Mills - TSK   \n",
       "2  Person_1  Operations - TSK  Steel & Mills - TSK   \n",
       "3  Person_1  Operations - TSK  Steel & Mills - TSK   \n",
       "4  Person_1  Operations - TSK  Steel & Mills - TSK   \n",
       "\n",
       "                     Department                           Program Name  \\\n",
       "0  Steel Melting Shop & LCP TSK  Six Sigma Black Belt Learning Program   \n",
       "1  Steel Melting Shop & LCP TSK  Six Sigma Black Belt Learning Program   \n",
       "2  Steel Melting Shop & LCP TSK  Six Sigma Black Belt Learning Program   \n",
       "3  Steel Melting Shop & LCP TSK  Six Sigma Black Belt Learning Program   \n",
       "4  Steel Melting Shop & LCP TSK  Six Sigma Black Belt Learning Program   \n",
       "\n",
       "                                Course Name  Duration(in hrs) Completed  \\\n",
       "0   The Define Phase for the 6 σ Black Belt               5.8       NaN   \n",
       "1  The Analyze Phase for the 6 σ Black Belt               7.5       NaN   \n",
       "2  The Measure Phase for the 6 σ Black Belt              10.8       NaN   \n",
       "3               DFSS for the 6 σ Black Belt               5.0       NaN   \n",
       "4    Team Management for the 6 σ Black Belt               2.5       NaN   \n",
       "\n",
       "  Enrollment Time Completion Time  Learning Hours Spent  Course Grade  \\\n",
       "0             NaN             NaN                   NaN           NaN   \n",
       "1             NaN             NaN                   NaN           NaN   \n",
       "2             NaN             NaN                   NaN           NaN   \n",
       "3             NaN             NaN                   NaN           NaN   \n",
       "4             NaN             NaN                   NaN           NaN   \n",
       "\n",
       "                                      Skills Learned  \n",
       "0  Trigonometric Integral; Lean Six Sigma; Six Si...  \n",
       "1  Six Sigma; Training; Culture; Analysis; Leader...  \n",
       "2  Process Analysis; Process; Measurement; Genera...  \n",
       "3  Trigonometric Integral; Six Sigma; Leadership ...  \n",
       "4  Project; Conflict Management; Conflict Resolut...  "
      ]
     },
     "execution_count": 8,
     "metadata": {},
     "output_type": "execute_result"
    }
   ],
   "source": [
    "df.head()"
   ]
  },
  {
   "cell_type": "code",
   "execution_count": 9,
   "id": "0301b02d",
   "metadata": {},
   "outputs": [
    {
     "name": "stdout",
     "output_type": "stream",
     "text": [
      "       Name          Division                Group  \\\n",
      "0  Person_1  Operations - TSK  Steel & Mills - TSK   \n",
      "1  Person_1  Operations - TSK  Steel & Mills - TSK   \n",
      "2  Person_1  Operations - TSK  Steel & Mills - TSK   \n",
      "3  Person_1  Operations - TSK  Steel & Mills - TSK   \n",
      "4  Person_1  Operations - TSK  Steel & Mills - TSK   \n",
      "\n",
      "                     Department                           Program Name  \\\n",
      "0  Steel Melting Shop & LCP TSK  Six Sigma Black Belt Learning Program   \n",
      "1  Steel Melting Shop & LCP TSK  Six Sigma Black Belt Learning Program   \n",
      "2  Steel Melting Shop & LCP TSK  Six Sigma Black Belt Learning Program   \n",
      "3  Steel Melting Shop & LCP TSK  Six Sigma Black Belt Learning Program   \n",
      "4  Steel Melting Shop & LCP TSK  Six Sigma Black Belt Learning Program   \n",
      "\n",
      "                                Course Name  Duration(in hrs) Completed  \\\n",
      "0   The Define Phase for the 6 σ Black Belt               5.8       NaN   \n",
      "1  The Analyze Phase for the 6 σ Black Belt               7.5       NaN   \n",
      "2  The Measure Phase for the 6 σ Black Belt              10.8       NaN   \n",
      "3               DFSS for the 6 σ Black Belt               5.0       NaN   \n",
      "4    Team Management for the 6 σ Black Belt               2.5       NaN   \n",
      "\n",
      "  Enrollment Time Completion Time  Learning Hours Spent  Course Grade  \\\n",
      "0             NaN             NaN                   NaN           NaN   \n",
      "1             NaN             NaN                   NaN           NaN   \n",
      "2             NaN             NaN                   NaN           NaN   \n",
      "3             NaN             NaN                   NaN           NaN   \n",
      "4             NaN             NaN                   NaN           NaN   \n",
      "\n",
      "                                      Skills Learned  \n",
      "0  Trigonometric Integral; Lean Six Sigma; Six Si...  \n",
      "1  Six Sigma; Training; Culture; Analysis; Leader...  \n",
      "2  Process Analysis; Process; Measurement; Genera...  \n",
      "3  Trigonometric Integral; Six Sigma; Leadership ...  \n",
      "4  Project; Conflict Management; Conflict Resolut...  \n"
     ]
    }
   ],
   "source": [
    "print(df.head())"
   ]
  },
  {
   "cell_type": "code",
   "execution_count": 10,
   "id": "37808c47",
   "metadata": {},
   "outputs": [
    {
     "name": "stdout",
     "output_type": "stream",
     "text": [
      "<class 'pandas.core.frame.DataFrame'>\n",
      "RangeIndex: 6635 entries, 0 to 6634\n",
      "Data columns (total 13 columns):\n",
      " #   Column                Non-Null Count  Dtype  \n",
      "---  ------                --------------  -----  \n",
      " 0   Name                  6635 non-null   object \n",
      " 1   Division              6635 non-null   object \n",
      " 2   Group                 6635 non-null   object \n",
      " 3   Department            6635 non-null   object \n",
      " 4   Program Name          6635 non-null   object \n",
      " 5   Course Name           6635 non-null   object \n",
      " 6   Duration(in hrs)      6635 non-null   float64\n",
      " 7   Completed             1738 non-null   object \n",
      " 8   Enrollment Time       1738 non-null   object \n",
      " 9   Completion Time       675 non-null    object \n",
      " 10  Learning Hours Spent  1738 non-null   float64\n",
      " 11  Course Grade          1738 non-null   float64\n",
      " 12  Skills Learned        6635 non-null   object \n",
      "dtypes: float64(3), object(10)\n",
      "memory usage: 674.0+ KB\n"
     ]
    }
   ],
   "source": [
    "df.info()"
   ]
  },
  {
   "cell_type": "markdown",
   "id": "be36e9a0",
   "metadata": {},
   "source": [
    "Giving the details of the total number of entries in each particular columns which are empty "
   ]
  },
  {
   "cell_type": "code",
   "execution_count": 11,
   "id": "14df4798",
   "metadata": {},
   "outputs": [
    {
     "data": {
      "text/plain": [
       "Name                       0\n",
       "Division                   0\n",
       "Group                      0\n",
       "Department                 0\n",
       "Program Name               0\n",
       "Course Name                0\n",
       "Duration(in hrs)           0\n",
       "Completed               4897\n",
       "Enrollment Time         4897\n",
       "Completion Time         5960\n",
       "Learning Hours Spent    4897\n",
       "Course Grade            4897\n",
       "Skills Learned             0\n",
       "dtype: int64"
      ]
     },
     "execution_count": 11,
     "metadata": {},
     "output_type": "execute_result"
    }
   ],
   "source": [
    "df.isnull().sum()"
   ]
  },
  {
   "cell_type": "code",
   "execution_count": 12,
   "id": "a698c70c",
   "metadata": {},
   "outputs": [
    {
     "data": {
      "text/plain": [
       "0       NaN\n",
       "1       NaN\n",
       "2       NaN\n",
       "3       NaN\n",
       "4       NaN\n",
       "       ... \n",
       "6630    Yes\n",
       "6631     No\n",
       "6632    NaN\n",
       "6633    Yes\n",
       "6634    NaN\n",
       "Name: Completed, Length: 6635, dtype: object"
      ]
     },
     "execution_count": 12,
     "metadata": {},
     "output_type": "execute_result"
    }
   ],
   "source": [
    "df.Completed\n"
   ]
  },
  {
   "cell_type": "markdown",
   "id": "883f8217",
   "metadata": {},
   "source": [
    "Replacing the not availible values as \"Not Completed\""
   ]
  },
  {
   "cell_type": "code",
   "execution_count": 13,
   "id": "c7aedf52",
   "metadata": {},
   "outputs": [],
   "source": [
    "df['Completed'].fillna('Not Started Yet', inplace=True)"
   ]
  },
  {
   "cell_type": "code",
   "execution_count": 14,
   "id": "4b909a7d",
   "metadata": {},
   "outputs": [
    {
     "data": {
      "text/plain": [
       "0       Not Started Yet\n",
       "1       Not Started Yet\n",
       "2       Not Started Yet\n",
       "3       Not Started Yet\n",
       "4       Not Started Yet\n",
       "             ...       \n",
       "6630                Yes\n",
       "6631                 No\n",
       "6632    Not Started Yet\n",
       "6633                Yes\n",
       "6634    Not Started Yet\n",
       "Name: Completed, Length: 6635, dtype: object"
      ]
     },
     "execution_count": 14,
     "metadata": {},
     "output_type": "execute_result"
    }
   ],
   "source": [
    "df.Completed"
   ]
  },
  {
   "cell_type": "code",
   "execution_count": 15,
   "id": "0e1aff8e",
   "metadata": {},
   "outputs": [
    {
     "data": {
      "text/plain": [
       "Name                       0\n",
       "Division                   0\n",
       "Group                      0\n",
       "Department                 0\n",
       "Program Name               0\n",
       "Course Name                0\n",
       "Duration(in hrs)           0\n",
       "Completed                  0\n",
       "Enrollment Time         4897\n",
       "Completion Time         5960\n",
       "Learning Hours Spent    4897\n",
       "Course Grade            4897\n",
       "Skills Learned             0\n",
       "dtype: int64"
      ]
     },
     "execution_count": 15,
     "metadata": {},
     "output_type": "execute_result"
    }
   ],
   "source": [
    "df.isnull().sum()"
   ]
  },
  {
   "cell_type": "code",
   "execution_count": 16,
   "id": "b67776dd",
   "metadata": {},
   "outputs": [],
   "source": [
    "df['Enrollment Time'].fillna('Not Applicable',inplace=True)"
   ]
  },
  {
   "cell_type": "code",
   "execution_count": 17,
   "id": "20636f6c",
   "metadata": {},
   "outputs": [
    {
     "data": {
      "text/plain": [
       "0                 Not Applicable\n",
       "1                 Not Applicable\n",
       "2                 Not Applicable\n",
       "3                 Not Applicable\n",
       "4                 Not Applicable\n",
       "                  ...           \n",
       "6630    2023-02-15T11:48:06.000Z\n",
       "6631    2023-04-02T14:10:21.000Z\n",
       "6632              Not Applicable\n",
       "6633    2023-02-12T12:04:42.000Z\n",
       "6634              Not Applicable\n",
       "Name: Enrollment Time, Length: 6635, dtype: object"
      ]
     },
     "execution_count": 17,
     "metadata": {},
     "output_type": "execute_result"
    }
   ],
   "source": [
    "df['Enrollment Time']"
   ]
  },
  {
   "cell_type": "code",
   "execution_count": 18,
   "id": "b349119a",
   "metadata": {},
   "outputs": [],
   "source": [
    "df['Learning Hours Spent'].fillna('Not Applicable',inplace=True)"
   ]
  },
  {
   "cell_type": "code",
   "execution_count": 19,
   "id": "6a905806",
   "metadata": {},
   "outputs": [],
   "source": [
    "df['Course Grade'].fillna('Not Applicable',inplace=True)"
   ]
  },
  {
   "cell_type": "code",
   "execution_count": 20,
   "id": "8d9d6488",
   "metadata": {},
   "outputs": [
    {
     "data": {
      "text/plain": [
       "Name                       0\n",
       "Division                   0\n",
       "Group                      0\n",
       "Department                 0\n",
       "Program Name               0\n",
       "Course Name                0\n",
       "Duration(in hrs)           0\n",
       "Completed                  0\n",
       "Enrollment Time            0\n",
       "Completion Time         5960\n",
       "Learning Hours Spent       0\n",
       "Course Grade               0\n",
       "Skills Learned             0\n",
       "dtype: int64"
      ]
     },
     "execution_count": 20,
     "metadata": {},
     "output_type": "execute_result"
    }
   ],
   "source": [
    "df.isnull().sum()"
   ]
  },
  {
   "cell_type": "code",
   "execution_count": 21,
   "id": "0799c533",
   "metadata": {},
   "outputs": [
    {
     "data": {
      "text/plain": [
       "0       Not Applicable\n",
       "1       Not Applicable\n",
       "2       Not Applicable\n",
       "3       Not Applicable\n",
       "4       Not Applicable\n",
       "             ...      \n",
       "6630              90.0\n",
       "6631             33.23\n",
       "6632    Not Applicable\n",
       "6633              90.0\n",
       "6634    Not Applicable\n",
       "Name: Course Grade, Length: 6635, dtype: object"
      ]
     },
     "execution_count": 21,
     "metadata": {},
     "output_type": "execute_result"
    }
   ],
   "source": [
    "df['Course Grade']"
   ]
  },
  {
   "cell_type": "code",
   "execution_count": 22,
   "id": "b9b1288c",
   "metadata": {},
   "outputs": [
    {
     "data": {
      "text/plain": [
       "0       Not Applicable\n",
       "1       Not Applicable\n",
       "2       Not Applicable\n",
       "3       Not Applicable\n",
       "4       Not Applicable\n",
       "             ...      \n",
       "6630              7.31\n",
       "6631              2.09\n",
       "6632    Not Applicable\n",
       "6633              6.34\n",
       "6634    Not Applicable\n",
       "Name: Learning Hours Spent, Length: 6635, dtype: object"
      ]
     },
     "execution_count": 22,
     "metadata": {},
     "output_type": "execute_result"
    }
   ],
   "source": [
    "df['Learning Hours Spent']"
   ]
  },
  {
   "cell_type": "code",
   "execution_count": 23,
   "id": "cecd824b",
   "metadata": {},
   "outputs": [
    {
     "data": {
      "text/plain": [
       "Name                       0\n",
       "Division                   0\n",
       "Group                      0\n",
       "Department                 0\n",
       "Program Name               0\n",
       "Course Name                0\n",
       "Duration(in hrs)           0\n",
       "Completed                  0\n",
       "Enrollment Time            0\n",
       "Completion Time         5960\n",
       "Learning Hours Spent       0\n",
       "Course Grade               0\n",
       "Skills Learned             0\n",
       "dtype: int64"
      ]
     },
     "execution_count": 23,
     "metadata": {},
     "output_type": "execute_result"
    }
   ],
   "source": [
    "df.isnull().sum()"
   ]
  },
  {
   "cell_type": "code",
   "execution_count": 24,
   "id": "d9b11d56",
   "metadata": {},
   "outputs": [
    {
     "data": {
      "text/plain": [
       "0                            NaN\n",
       "1                            NaN\n",
       "2                            NaN\n",
       "3                            NaN\n",
       "4                            NaN\n",
       "                  ...           \n",
       "6630    2023-03-17T06:11:14.000Z\n",
       "6631                         NaN\n",
       "6632                         NaN\n",
       "6633    2023-04-02T14:01:56.000Z\n",
       "6634                         NaN\n",
       "Name: Completion Time, Length: 6635, dtype: object"
      ]
     },
     "execution_count": 24,
     "metadata": {},
     "output_type": "execute_result"
    }
   ],
   "source": [
    "df['Completion Time']"
   ]
  },
  {
   "cell_type": "code",
   "execution_count": 25,
   "id": "11eb4791",
   "metadata": {},
   "outputs": [
    {
     "data": {
      "text/plain": [
       "Name                       0\n",
       "Division                   0\n",
       "Group                      0\n",
       "Department                 0\n",
       "Program Name               0\n",
       "Course Name                0\n",
       "Duration(in hrs)           0\n",
       "Completed                  0\n",
       "Enrollment Time            0\n",
       "Completion Time         5960\n",
       "Learning Hours Spent       0\n",
       "Course Grade               0\n",
       "Skills Learned             0\n",
       "dtype: int64"
      ]
     },
     "execution_count": 25,
     "metadata": {},
     "output_type": "execute_result"
    }
   ],
   "source": [
    "df.isnull().sum()"
   ]
  },
  {
   "cell_type": "code",
   "execution_count": 26,
   "id": "f73b8702",
   "metadata": {},
   "outputs": [
    {
     "data": {
      "text/plain": [
       "0                            NaN\n",
       "1                            NaN\n",
       "2                            NaN\n",
       "3                            NaN\n",
       "4                            NaN\n",
       "                  ...           \n",
       "6630    2023-03-17T06:11:14.000Z\n",
       "6631                         NaN\n",
       "6632                         NaN\n",
       "6633    2023-04-02T14:01:56.000Z\n",
       "6634                         NaN\n",
       "Name: Completion Time, Length: 6635, dtype: object"
      ]
     },
     "execution_count": 26,
     "metadata": {},
     "output_type": "execute_result"
    }
   ],
   "source": [
    "df['Completion Time']"
   ]
  },
  {
   "cell_type": "code",
   "execution_count": 27,
   "id": "ab263900",
   "metadata": {},
   "outputs": [],
   "source": [
    "df1=df"
   ]
  },
  {
   "cell_type": "code",
   "execution_count": 28,
   "id": "6b4ab3eb",
   "metadata": {},
   "outputs": [
    {
     "data": {
      "text/plain": [
       "0                            NaN\n",
       "1                            NaN\n",
       "2                            NaN\n",
       "3                            NaN\n",
       "4                            NaN\n",
       "                  ...           \n",
       "6630    2023-03-17T06:11:14.000Z\n",
       "6631                         NaN\n",
       "6632                         NaN\n",
       "6633    2023-04-02T14:01:56.000Z\n",
       "6634                         NaN\n",
       "Name: Completion Time, Length: 6635, dtype: object"
      ]
     },
     "execution_count": 28,
     "metadata": {},
     "output_type": "execute_result"
    }
   ],
   "source": [
    "df1['Completion Time']"
   ]
  },
  {
   "cell_type": "markdown",
   "id": "dbc44465",
   "metadata": {},
   "source": [
    "This down there converts the time in the particular format wherein we use this parser type which makes the time format such as \n",
    "6630   2023-02-15 11:48:06+00:00 \n",
    "            means 15 Feb 2023 and the time is 11:48:06 with the +00:00 format which means it is in the greenwich mean time "
   ]
  },
  {
   "cell_type": "code",
   "execution_count": 32,
   "id": "f5112f27",
   "metadata": {
    "scrolled": true
   },
   "outputs": [],
   "source": [
    "df1['Enrollment Time'] = pd.to_datetime(df1['Enrollment Time'], errors='coerce', format='%Y-%m-%d')\n"
   ]
  },
  {
   "cell_type": "code",
   "execution_count": 33,
   "id": "04654df0",
   "metadata": {},
   "outputs": [
    {
     "data": {
      "text/plain": [
       "0                            NaT\n",
       "1                            NaT\n",
       "2                            NaT\n",
       "3                            NaT\n",
       "4                            NaT\n",
       "                  ...           \n",
       "6630   2023-02-15 11:48:06+00:00\n",
       "6631   2023-04-02 14:10:21+00:00\n",
       "6632                         NaT\n",
       "6633   2023-02-12 12:04:42+00:00\n",
       "6634                         NaT\n",
       "Name: Enrollment Time, Length: 6635, dtype: datetime64[ns, UTC]"
      ]
     },
     "execution_count": 33,
     "metadata": {},
     "output_type": "execute_result"
    }
   ],
   "source": [
    "df1['Enrollment Time']"
   ]
  },
  {
   "cell_type": "code",
   "execution_count": 34,
   "id": "0774640b",
   "metadata": {},
   "outputs": [
    {
     "data": {
      "text/plain": [
       "0                            NaN\n",
       "1                            NaN\n",
       "2                            NaN\n",
       "3                            NaN\n",
       "4                            NaN\n",
       "                  ...           \n",
       "6630    2023-03-17T06:11:14.000Z\n",
       "6631                         NaN\n",
       "6632                         NaN\n",
       "6633    2023-04-02T14:01:56.000Z\n",
       "6634                         NaN\n",
       "Name: Completion Time, Length: 6635, dtype: object"
      ]
     },
     "execution_count": 34,
     "metadata": {},
     "output_type": "execute_result"
    }
   ],
   "source": [
    "df1['Completion Time']"
   ]
  },
  {
   "cell_type": "code",
   "execution_count": 36,
   "id": "bad1aa47",
   "metadata": {},
   "outputs": [
    {
     "data": {
      "text/plain": [
       "0      NaT\n",
       "1      NaT\n",
       "2      NaT\n",
       "3      NaT\n",
       "4      NaT\n",
       "        ..\n",
       "6630   NaT\n",
       "6631   NaT\n",
       "6632   NaT\n",
       "6633   NaT\n",
       "6634   NaT\n",
       "Name: Completion Time, Length: 6635, dtype: datetime64[ns]"
      ]
     },
     "execution_count": 36,
     "metadata": {},
     "output_type": "execute_result"
    }
   ],
   "source": [
    "df['Enrollment Time'] = pd.to_datetime(df['Enrollment Time'], errors='coerce', format='%Y-%m-%d')\n",
    "df['Completion Time'] = pd.to_datetime(df['Completion Time'], errors='coerce', format='%Y-%m-%d')\n",
    "df['Enrollment Time']\n",
    "df['Completion Time']"
   ]
  },
  {
   "cell_type": "code",
   "execution_count": 37,
   "id": "869996ef",
   "metadata": {},
   "outputs": [
    {
     "data": {
      "text/plain": [
       "0                            NaT\n",
       "1                            NaT\n",
       "2                            NaT\n",
       "3                            NaT\n",
       "4                            NaT\n",
       "                  ...           \n",
       "6630   2023-02-15 11:48:06+00:00\n",
       "6631   2023-04-02 14:10:21+00:00\n",
       "6632                         NaT\n",
       "6633   2023-02-12 12:04:42+00:00\n",
       "6634                         NaT\n",
       "Name: Enrollment Time, Length: 6635, dtype: datetime64[ns, UTC]"
      ]
     },
     "execution_count": 37,
     "metadata": {},
     "output_type": "execute_result"
    }
   ],
   "source": [
    "df['Enrollment Time']"
   ]
  },
  {
   "cell_type": "code",
   "execution_count": 38,
   "id": "66239069",
   "metadata": {},
   "outputs": [
    {
     "data": {
      "text/plain": [
       "0      NaT\n",
       "1      NaT\n",
       "2      NaT\n",
       "3      NaT\n",
       "4      NaT\n",
       "        ..\n",
       "6630   NaT\n",
       "6631   NaT\n",
       "6632   NaT\n",
       "6633   NaT\n",
       "6634   NaT\n",
       "Name: Completion Time, Length: 6635, dtype: datetime64[ns]"
      ]
     },
     "execution_count": 38,
     "metadata": {},
     "output_type": "execute_result"
    }
   ],
   "source": [
    "df['Completion Time']"
   ]
  },
  {
   "cell_type": "code",
   "execution_count": 40,
   "id": "9f19fe19",
   "metadata": {},
   "outputs": [
    {
     "name": "stdout",
     "output_type": "stream",
     "text": [
      "Series([], Name: Completion Time, dtype: datetime64[ns])\n"
     ]
    }
   ],
   "source": [
    "non_na_completion_time_values = df1['Completion Time'].dropna()\n",
    "\n",
    "# Display the values\n",
    "print(non_na_completion_time_values)"
   ]
  },
  {
   "cell_type": "code",
   "execution_count": 41,
   "id": "d7c572c2",
   "metadata": {},
   "outputs": [
    {
     "data": {
      "text/plain": [
       "0      NaT\n",
       "1      NaT\n",
       "2      NaT\n",
       "3      NaT\n",
       "4      NaT\n",
       "        ..\n",
       "6630   NaT\n",
       "6631   NaT\n",
       "6632   NaT\n",
       "6633   NaT\n",
       "6634   NaT\n",
       "Name: Completion Time, Length: 6635, dtype: datetime64[ns]"
      ]
     },
     "execution_count": 41,
     "metadata": {},
     "output_type": "execute_result"
    }
   ],
   "source": [
    "df['Completion Time']"
   ]
  },
  {
   "cell_type": "code",
   "execution_count": 42,
   "id": "eb517698",
   "metadata": {},
   "outputs": [
    {
     "data": {
      "text/plain": [
       "0                            NaT\n",
       "1                            NaT\n",
       "2                            NaT\n",
       "3                            NaT\n",
       "4                            NaT\n",
       "                  ...           \n",
       "6630   2023-02-15 11:48:06+00:00\n",
       "6631   2023-04-02 14:10:21+00:00\n",
       "6632                         NaT\n",
       "6633   2023-02-12 12:04:42+00:00\n",
       "6634                         NaT\n",
       "Name: Enrollment Time, Length: 6635, dtype: datetime64[ns, UTC]"
      ]
     },
     "execution_count": 42,
     "metadata": {},
     "output_type": "execute_result"
    }
   ],
   "source": [
    "df['Enrollment Time']"
   ]
  },
  {
   "cell_type": "code",
   "execution_count": 43,
   "id": "a524d614",
   "metadata": {},
   "outputs": [
    {
     "data": {
      "text/plain": [
       "6635"
      ]
     },
     "execution_count": 43,
     "metadata": {},
     "output_type": "execute_result"
    }
   ],
   "source": [
    "df['Completion Time'].isnull().sum()"
   ]
  },
  {
   "cell_type": "code",
   "execution_count": null,
   "id": "e1d4cbd4",
   "metadata": {},
   "outputs": [],
   "source": [
    "df1['Completion Time']"
   ]
  }
 ],
 "metadata": {
  "kernelspec": {
   "display_name": "Python 3 (ipykernel)",
   "language": "python",
   "name": "python3"
  },
  "language_info": {
   "codemirror_mode": {
    "name": "ipython",
    "version": 3
   },
   "file_extension": ".py",
   "mimetype": "text/x-python",
   "name": "python",
   "nbconvert_exporter": "python",
   "pygments_lexer": "ipython3",
   "version": "3.11.5"
  }
 },
 "nbformat": 4,
 "nbformat_minor": 5
}
